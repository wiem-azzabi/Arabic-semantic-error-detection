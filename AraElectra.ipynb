{
 "cells": [
  {
   "attachments": {},
   "cell_type": "markdown",
   "metadata": {},
   "source": [
    "\n",
    "* Github model source link : https://github.com/aub-mind/arabert"
   ]
  },
  {
   "attachments": {},
   "cell_type": "markdown",
   "metadata": {},
   "source": [
    "# AraELECTRA Model\n",
    "* use the detector\n",
    "* si un mot n'est pas similaire au mots générés par le modele ,alors il peut contenir une erreur"
   ]
  },
  {
   "cell_type": "code",
   "execution_count": 1,
   "metadata": {},
   "outputs": [],
   "source": [
    "import pandas as pd  # for performance measure:\n",
    "import gensim\n",
    "import re  # regularexpression\n",
    "import spacy\n",
    "import nltk\n",
    "import util as ut\n",
    "from gensim import matutils  # utility fnc for pickling, common scipy operations etc\n",
    "import numpy as np\n",
    "import math\n",
    "from transformers import pipeline\n",
    "from arabert.preprocess import ArabertPreprocessor\n"
   ]
  },
  {
   "cell_type": "code",
   "execution_count": 2,
   "metadata": {},
   "outputs": [],
   "source": [
    "MODEL_NAME = 'aubmindlab/Araelectra-base-generator'\n",
    "fill_mask = pipeline(task=\"fill-mask\",model=MODEL_NAME,tokenizer=MODEL_NAME)"
   ]
  },
  {
   "cell_type": "code",
   "execution_count": 3,
   "metadata": {},
   "outputs": [
    {
     "name": "stdout",
     "output_type": "stream",
     "text": [
      "you wrote :  القسم\n",
      "did you mean :  القدم ?\n"
     ]
    }
   ],
   "source": [
    "#-- testing the method\n",
    "text= \"حقق منتخبنا الوطني الاول لكرة [MASK] كل اهدافه المطلوبة\"\n",
    "mask = \"القسم\"\n",
    "words = fill_mask(\"حقق منتخبنا الوطني الاول لكرة [MASK] كل اهدافه المطلوبة\")\n",
    "#words = \"حقق منتخبنا الوطني الاول لكرة القسم كل اهدافه المطلوبة\"\n",
    "s=[]\n",
    "t=[]\n",
    "for e in words:\n",
    "    t.append(e['token_str'])\n",
    "    s.append(e['sequence'])\n",
    "print(\"you wrote : \", mask)\n",
    "print(\"did you mean : \",ut.lookslike(t,[mask]),\"?\")\n"
   ]
  },
  {
   "cell_type": "code",
   "execution_count": 4,
   "metadata": {},
   "outputs": [],
   "source": [
    "def replace(mask, text2):\n",
    "    text = text2\n",
    "    text = text.split()\n",
    "    text = list(map(lambda x: x.replace(mask, '[MASK]'), text))\n",
    "    text = ' '.join(str(x) for x in text)\n",
    "    return(text)\n"
   ]
  },
  {
   "cell_type": "code",
   "execution_count": 5,
   "metadata": {},
   "outputs": [],
   "source": [
    "def araelectra(text):\n",
    "    try:\n",
    "        ok = True\n",
    "        res = []\n",
    "        print(\"your text = \", text, \"\\n\")\n",
    "        for mask in text.split():\n",
    "            try:\n",
    "                ok = True\n",
    "                masked_text = \"\"\n",
    "                masked_text = replace(mask, text)\n",
    "                words = fill_mask(masked_text)\n",
    "                s = []\n",
    "                t = []\n",
    "                for e in words[:-2]:\n",
    "                    #        t.append(e['token_str'])\n",
    "                    #print(e)\n",
    "                    t.append(ut.clean_str(e['token_str']))\n",
    "                    s.append(e['sequence'])\n",
    "                # les mots parmi les mots générs qui ressemblent au mot à analyser\n",
    "                correct = ut.lookslike(t, [ut.clean_str(mask)])\n",
    "            #    correct = ut.lookslike(t, [mask])\n",
    "            #    if correct != ut.clean_str(mask):\n",
    "                if correct != mask and correct:\n",
    "                    print(\"you wrote : [ \", mask,\n",
    "                        \"] did you mean : [ \", correct, \"] ?\")\n",
    "                    ok = False\n",
    "                    res.append((mask, correct))\n",
    "            except : \n",
    "                continue\n",
    "        return(res)\n",
    "    except:\n",
    "        return(res)\n"
   ]
  },
  {
   "cell_type": "code",
   "execution_count": 6,
   "metadata": {},
   "outputs": [
    {
     "name": "stdout",
     "output_type": "stream",
     "text": [
      "your text =  حقق منتخبنا الوطني الاول لكرة القسم كل اهدافه المطلوبة \n",
      "\n",
      "you wrote : [  حقق ] did you mean : [  وحقق ] ?\n",
      "you wrote : [  القسم ] did you mean : [  القدم ] ?\n",
      "result =  [('حقق', 'وحقق'), ('القسم', 'القدم')]\n"
     ]
    }
   ],
   "source": [
    "#testing ...\n",
    "text = \"حقق منتخبنا الوطني الاول لكرة القسم كل اهدافه المطلوبة\"\n",
    "x= araelectra(text)\n",
    "print(\"result = \",x)"
   ]
  },
  {
   "attachments": {},
   "cell_type": "markdown",
   "metadata": {},
   "source": [
    "# Evaluation du modele \n",
    "*  si y_test n'apprtient pas à la liste générée res => loss"
   ]
  },
  {
   "cell_type": "code",
   "execution_count": 7,
   "metadata": {},
   "outputs": [
    {
     "data": {
      "text/html": [
       "<div>\n",
       "<style scoped>\n",
       "    .dataframe tbody tr th:only-of-type {\n",
       "        vertical-align: middle;\n",
       "    }\n",
       "\n",
       "    .dataframe tbody tr th {\n",
       "        vertical-align: top;\n",
       "    }\n",
       "\n",
       "    .dataframe thead th {\n",
       "        text-align: right;\n",
       "    }\n",
       "</style>\n",
       "<table border=\"1\" class=\"dataframe\">\n",
       "  <thead>\n",
       "    <tr style=\"text-align: right;\">\n",
       "      <th></th>\n",
       "      <th>sentence</th>\n",
       "      <th>wrong_word</th>\n",
       "      <th>correct_word</th>\n",
       "      <th>error_type</th>\n",
       "    </tr>\n",
       "  </thead>\n",
       "  <tbody>\n",
       "    <tr>\n",
       "      <th>0</th>\n",
       "      <td>اصطاد الصياد السكة</td>\n",
       "      <td>السكة</td>\n",
       "      <td>السمكة</td>\n",
       "      <td>deletion</td>\n",
       "    </tr>\n",
       "    <tr>\n",
       "      <th>1</th>\n",
       "      <td>حقق المنتخب الوطني لكرة القسم كل اهدافه المطلوبة</td>\n",
       "      <td>القسم</td>\n",
       "      <td>القدم</td>\n",
       "      <td>substitution</td>\n",
       "    </tr>\n",
       "    <tr>\n",
       "      <th>2</th>\n",
       "      <td>تنطلق اليوم الدورة البرامجية الجديدة للتليفزيو...</td>\n",
       "      <td>الاشاعة</td>\n",
       "      <td>الاذاعة</td>\n",
       "      <td>substitution</td>\n",
       "    </tr>\n",
       "    <tr>\n",
       "      <th>3</th>\n",
       "      <td>طبخ الطباخ المركبات</td>\n",
       "      <td>المركبات</td>\n",
       "      <td>المرطبات</td>\n",
       "      <td>substitution</td>\n",
       "    </tr>\n",
       "    <tr>\n",
       "      <th>4</th>\n",
       "      <td>شهد السباق تفاعلا وحضورا كبيرا من محبي هذه الر...</td>\n",
       "      <td>العبرية</td>\n",
       "      <td>العربية</td>\n",
       "      <td>inversion error</td>\n",
       "    </tr>\n",
       "    <tr>\n",
       "      <th>5</th>\n",
       "      <td>أنا سعيد بسيناريو الفيلم الذي يلخص الواسع المصري</td>\n",
       "      <td>الواسع</td>\n",
       "      <td>الواقع</td>\n",
       "      <td>substitution</td>\n",
       "    </tr>\n",
       "    <tr>\n",
       "      <th>6</th>\n",
       "      <td>يقوم الدكتور بعلاج مرضى كثيرين يعانقون من امرا...</td>\n",
       "      <td>يعانقون</td>\n",
       "      <td>يعانون</td>\n",
       "      <td>adding</td>\n",
       "    </tr>\n",
       "    <tr>\n",
       "      <th>7</th>\n",
       "      <td>شارك الشباب في مهرجان الموسيقى الثقافي الحادي عرش</td>\n",
       "      <td>عرش</td>\n",
       "      <td>عشر</td>\n",
       "      <td>inversion</td>\n",
       "    </tr>\n",
       "    <tr>\n",
       "      <th>8</th>\n",
       "      <td>ارقى انواع الثقافات التي عرفتها الحضارة البري...</td>\n",
       "      <td>البرية</td>\n",
       "      <td>البشرية</td>\n",
       "      <td>deletion</td>\n",
       "    </tr>\n",
       "    <tr>\n",
       "      <th>9</th>\n",
       "      <td>اللام لا يصنع السعادة</td>\n",
       "      <td>اللام</td>\n",
       "      <td>المال</td>\n",
       "      <td>inversion</td>\n",
       "    </tr>\n",
       "    <tr>\n",
       "      <th>10</th>\n",
       "      <td>الفلاح يقصد القمح</td>\n",
       "      <td>يقصد</td>\n",
       "      <td>يحصد</td>\n",
       "      <td>substitution</td>\n",
       "    </tr>\n",
       "  </tbody>\n",
       "</table>\n",
       "</div>"
      ],
      "text/plain": [
       "                                             sentence wrong_word correct_word  \\\n",
       "0                                  اصطاد الصياد السكة      السكة       السمكة   \n",
       "1    حقق المنتخب الوطني لكرة القسم كل اهدافه المطلوبة     القسم         القدم   \n",
       "2   تنطلق اليوم الدورة البرامجية الجديدة للتليفزيو...   الاشاعة       الاذاعة   \n",
       "3                                 طبخ الطباخ المركبات   المركبات     المرطبات   \n",
       "4   شهد السباق تفاعلا وحضورا كبيرا من محبي هذه الر...   العبرية       العربية   \n",
       "5   أنا سعيد بسيناريو الفيلم الذي يلخص الواسع المصري      الواسع       الواقع   \n",
       "6   يقوم الدكتور بعلاج مرضى كثيرين يعانقون من امرا...    يعانقون       يعانون   \n",
       "7   شارك الشباب في مهرجان الموسيقى الثقافي الحادي عرش        عرش          عشر   \n",
       "8    ارقى انواع الثقافات التي عرفتها الحضارة البري...     البرية      البشرية   \n",
       "9                              اللام لا يصنع السعادة       اللام        المال   \n",
       "10                                  الفلاح يقصد القمح       يقصد         يحصد   \n",
       "\n",
       "         error_type  \n",
       "0          deletion  \n",
       "1      substitution  \n",
       "2      substitution  \n",
       "3      substitution  \n",
       "4   inversion error  \n",
       "5      substitution  \n",
       "6            adding  \n",
       "7         inversion  \n",
       "8          deletion  \n",
       "9         inversion  \n",
       "10     substitution  "
      ]
     },
     "execution_count": 7,
     "metadata": {},
     "output_type": "execute_result"
    }
   ],
   "source": [
    "# parcours de la data \n",
    "# test \n",
    "#evaluation\n",
    "df = pd.read_csv(\"../testdata.csv\", dtype='string')\n",
    "df\n"
   ]
  },
  {
   "attachments": {},
   "cell_type": "markdown",
   "metadata": {},
   "source": [
    "* y vs y_pred"
   ]
  },
  {
   "cell_type": "code",
   "execution_count": 8,
   "metadata": {},
   "outputs": [],
   "source": [
    "def get_suggested_errors(y_pred) :\n",
    "    s=[]\n",
    "    for i in range(len(y_pred)):\n",
    "        t=[]\n",
    "        for j in range(len(y_pred[i])):\n",
    "            t.append(y_pred[i][j][0])\n",
    "        s.append(t)\n",
    "    return(s)\n",
    "\n"
   ]
  },
  {
   "cell_type": "code",
   "execution_count": 9,
   "metadata": {},
   "outputs": [
    {
     "name": "stdout",
     "output_type": "stream",
     "text": [
      "your text =  اصطاد الصياد السكة \n",
      "\n",
      "your text =  حقق المنتخب الوطني لكرة القسم كل اهدافه المطلوبة \n",
      "\n",
      "you wrote : [  حقق ] did you mean : [  وحقق ] ?\n",
      "you wrote : [  القسم ] did you mean : [  القدم ] ?\n",
      "your text =  تنطلق اليوم الدورة البرامجية الجديدة للتليفزيون و الاشاعة التي تستمر طوال اشهر ابريل و مايو \n",
      "\n",
      "you wrote : [  الاشاعة ] did you mean : [  الاذاعة ] ?\n",
      "you wrote : [  اشهر ] did you mean : [  شهر ] ?\n",
      "your text =  طبخ الطباخ المركبات \n",
      "\n",
      "your text =  شهد السباق تفاعلا وحضورا كبيرا من محبي هذه الرياضة كونها تمثل رمزا للاصالة العبرية ونهجا على طريق الاجداد \n",
      "\n",
      "you wrote : [  شهد ] did you mean : [  وشهد ] ?\n",
      "your text =  أنا سعيد بسيناريو الفيلم الذي يلخص الواسع المصري  \n",
      "\n",
      "you wrote : [  سعيد ] did you mean : [  سعيدة ] ?\n",
      "you wrote : [  الذي ] did you mean : [  والذي ] ?\n",
      "you wrote : [  الواسع ] did you mean : [  الواقع ] ?\n",
      "your text =  يقوم الدكتور بعلاج مرضى كثيرين يعانقون من امراض في الجهاز التنفسي  \n",
      "\n",
      "you wrote : [  يعانقون ] did you mean : [  يعانون ] ?\n",
      "your text =  شارك الشباب في مهرجان الموسيقى الثقافي الحادي عرش \n",
      "\n",
      "you wrote : [  عرش ] did you mean : [  عشر ] ?\n",
      "your text =   ارقى انواع الثقافات التي عرفتها الحضارة البرية على مر العصور  \n",
      "\n",
      "you wrote : [  التي ] did you mean : [  والتي ] ?\n",
      "you wrote : [  على ] did you mean : [  وعلي ] ?\n",
      "your text =  اللام لا يصنع السعادة  \n",
      "\n",
      "your text =  الفلاح يقصد القمح \n",
      "\n"
     ]
    }
   ],
   "source": [
    "test = [c for c in df.sentence]\n",
    "y_araelectra_pred = [araelectra(c) for c in test]\n",
    "y_pred = []\n",
    "for i in y_araelectra_pred:\n",
    "    if len(i) ==0 :\n",
    "        y_pred.append([(\"0\",\"0\")])\n",
    "    else:\n",
    "        y_pred.append(i)\n",
    "y = [y.lstrip().rstrip() for y in df.wrong_word]\n",
    "y_pred = get_suggested_errors(y_pred)\n"
   ]
  },
  {
   "attachments": {},
   "cell_type": "markdown",
   "metadata": {},
   "source": [
    "* precision "
   ]
  },
  {
   "cell_type": "code",
   "execution_count": 10,
   "metadata": {},
   "outputs": [
    {
     "name": "stdout",
     "output_type": "stream",
     "text": [
      "Araelectra precision =  0.45454545454545453\n"
     ]
    }
   ],
   "source": [
    "precision = ut.precision2(y, y_pred)\n",
    "print(\"Araelectra precision = \",precision)\n"
   ]
  },
  {
   "attachments": {},
   "cell_type": "markdown",
   "metadata": {},
   "source": [
    "# combinaison de modeles AraVec et AraELECTRA \n",
    "* aravec + aralecetra \n",
    "* calcul similarités (avec aravec) entres les mots suggérés par (araelectra)\n",
    "*   araelectra suggere des couples (mot, erreur)\n",
    "*   aravec retourne la meilleure correction \n",
    "*       similarité(منتخبنا, لمنتخبنا)>similarite(القسم,القدم)--> le mot erroné exact est \"القسم\""
   ]
  },
  {
   "cell_type": "code",
   "execution_count": 11,
   "metadata": {},
   "outputs": [],
   "source": [
    "#load Aravec model \n",
    "nlp = spacy.load(\"./spacy.aravec.model/\")\n",
    "# Define the preprocessing Class\n",
    "\n",
    "\n",
    "class Preprocessor:\n",
    "    def __init__(self, tokenizer, **cfg):\n",
    "        self.tokenizer = tokenizer\n",
    "\n",
    "    def __call__(self, text):\n",
    "        preprocessed = ut.clean_str(text)\n",
    "        return self.tokenizer(preprocessed)\n"
   ]
  },
  {
   "cell_type": "code",
   "execution_count": 12,
   "metadata": {},
   "outputs": [],
   "source": [
    "def combinedModels(text):\n",
    "    try:\n",
    "        a = araelectra(text)\n",
    "        sim= [nlp(x).similarity(nlp(y)) for x,y in a]\n",
    "        error = a[sim.index(min(sim))]\n",
    "        print(\"\\n the exact error is in word\",error[0])\n",
    "        return(error[0])\n",
    "    except: \n",
    "        return(\"\")"
   ]
  },
  {
   "attachments": {},
   "cell_type": "markdown",
   "metadata": {},
   "source": [
    "execution exemple"
   ]
  },
  {
   "cell_type": "code",
   "execution_count": 13,
   "metadata": {},
   "outputs": [
    {
     "name": "stdout",
     "output_type": "stream",
     "text": [
      "your text =  تنطلق اليوم الدورة البرامجية الجديدة للتليفزيون و الاشاعة و برنامج الشباب و التي تستمر طوال اشهر ابريل و مايو و يونيو \n",
      "\n",
      "you wrote : [  الاشاعة ] did you mean : [  الاذاعة ] ?\n",
      "you wrote : [  برنامج ] did you mean : [  برامج ] ?\n",
      "you wrote : [  التي ] did you mean : [  الذي ] ?\n",
      "you wrote : [  اشهر ] did you mean : [  شهر ] ?\n",
      "\n",
      " the exact error is in word الاشاعة\n"
     ]
    },
    {
     "name": "stderr",
     "output_type": "stream",
     "text": [
      "C:\\Users\\PC\\AppData\\Local\\Temp\\ipykernel_15640\\107581351.py:4: UserWarning: [W008] Evaluating Doc.similarity based on empty vectors.\n",
      "  sim= [nlp(x).similarity(nlp(y)) for x,y in a]\n"
     ]
    }
   ],
   "source": [
    "text = \"تنطلق اليوم الدورة البرامجية الجديدة للتليفزيون و الاشاعة و برنامج الشباب و التي تستمر طوال اشهر ابريل و مايو و يونيو\"\n",
    "x= combinedModels(text)\n"
   ]
  },
  {
   "attachments": {},
   "cell_type": "markdown",
   "metadata": {},
   "source": [
    "## Evaluation de la combinaison"
   ]
  },
  {
   "cell_type": "code",
   "execution_count": 18,
   "metadata": {},
   "outputs": [
    {
     "name": "stdout",
     "output_type": "stream",
     "text": [
      "your text =  اصطاد الصياد السكة \n",
      "\n",
      "your text =  حقق المنتخب الوطني لكرة القسم كل اهدافه المطلوبة \n",
      "\n",
      "you wrote : [  حقق ] did you mean : [  وحقق ] ?\n",
      "you wrote : [  القسم ] did you mean : [  القدم ] ?\n",
      "\n",
      " the exact error is in word القسم\n",
      "your text =  تنطلق اليوم الدورة البرامجية الجديدة للتليفزيون و الاشاعة التي تستمر طوال اشهر ابريل و مايو \n",
      "\n",
      "you wrote : [  الاشاعة ] did you mean : [  الاذاعة ] ?\n",
      "you wrote : [  اشهر ] did you mean : [  شهر ] ?\n",
      "\n",
      " the exact error is in word الاشاعة\n",
      "your text =  طبخ الطباخ المركبات \n",
      "\n"
     ]
    },
    {
     "name": "stderr",
     "output_type": "stream",
     "text": [
      "C:\\Users\\PC\\AppData\\Local\\Temp\\ipykernel_15640\\107581351.py:4: UserWarning: [W008] Evaluating Doc.similarity based on empty vectors.\n",
      "  sim= [nlp(x).similarity(nlp(y)) for x,y in a]\n"
     ]
    },
    {
     "name": "stdout",
     "output_type": "stream",
     "text": [
      "your text =  شهد السباق تفاعلا وحضورا كبيرا من محبي هذه الرياضة كونها تمثل رمزا للاصالة العبرية ونهجا على طريق الاجداد \n",
      "\n",
      "you wrote : [  شهد ] did you mean : [  وشهد ] ?\n",
      "\n",
      " the exact error is in word شهد\n",
      "your text =  أنا سعيد بسيناريو الفيلم الذي يلخص الواسع المصري  \n",
      "\n",
      "you wrote : [  سعيد ] did you mean : [  سعيدة ] ?\n",
      "you wrote : [  الذي ] did you mean : [  والذي ] ?\n",
      "you wrote : [  الواسع ] did you mean : [  الواقع ] ?\n",
      "\n",
      " the exact error is in word سعيد\n",
      "your text =  يقوم الدكتور بعلاج مرضى كثيرين يعانقون من امراض في الجهاز التنفسي  \n",
      "\n",
      "you wrote : [  يعانقون ] did you mean : [  يعانون ] ?\n",
      "\n",
      " the exact error is in word يعانقون\n",
      "your text =  شارك الشباب في مهرجان الموسيقى الثقافي الحادي عرش \n",
      "\n",
      "you wrote : [  عرش ] did you mean : [  عشر ] ?\n",
      "\n",
      " the exact error is in word عرش\n",
      "your text =   ارقى انواع الثقافات التي عرفتها الحضارة البرية على مر العصور  \n",
      "\n",
      "you wrote : [  التي ] did you mean : [  والتي ] ?\n",
      "you wrote : [  على ] did you mean : [  وعلي ] ?\n",
      "\n",
      " the exact error is in word على\n",
      "your text =  اللام لا يصنع السعادة  \n",
      "\n",
      "your text =  الفلاح يقصد القمح \n",
      "\n"
     ]
    }
   ],
   "source": [
    "test = [c for c in df.sentence]\n",
    "y = [y.lstrip().rstrip() for y in df.wrong_word]\n",
    "y_combi_pred = [combinedModels(c) for c in test]\n"
   ]
  },
  {
   "cell_type": "code",
   "execution_count": 19,
   "metadata": {},
   "outputs": [
    {
     "name": "stdout",
     "output_type": "stream",
     "text": [
      "model combination precision =  0.36363636363636365\n"
     ]
    }
   ],
   "source": [
    "precisionn = ut.precision(y,y_combi_pred)\n",
    "print(\"model combination precision = \",precisionn)"
   ]
  },
  {
   "cell_type": "code",
   "execution_count": null,
   "metadata": {},
   "outputs": [],
   "source": []
  }
 ],
 "metadata": {
  "kernelspec": {
   "display_name": "Python 3",
   "language": "python",
   "name": "python3"
  },
  "language_info": {
   "codemirror_mode": {
    "name": "ipython",
    "version": 3
   },
   "file_extension": ".py",
   "mimetype": "text/x-python",
   "name": "python",
   "nbconvert_exporter": "python",
   "pygments_lexer": "ipython3",
   "version": "3.9.0"
  },
  "orig_nbformat": 4,
  "vscode": {
   "interpreter": {
    "hash": "f6c8f846148a3e4d140e6ddf63c190cff559dcf260a4a21539f0978f2b58638c"
   }
  }
 },
 "nbformat": 4,
 "nbformat_minor": 2
}
